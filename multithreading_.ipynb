{
 "cells": [
  {
   "cell_type": "markdown",
   "id": "148a64a3-34a3-4e6e-9095-fb2b113e0868",
   "metadata": {},
   "source": [
    "#### Q1. What is multithreading in python? why is it used? Name the module used to handle threads in python."
   ]
  },
  {
   "cell_type": "markdown",
   "id": "0a4222fa-7910-4912-93ce-51f9792eaead",
   "metadata": {},
   "source": [
    "Multithreading in Python is a way of achieving parallelism by dividing a process into multiple threads that run parallely. threading is the module which we use to import. "
   ]
  },
  {
   "cell_type": "markdown",
   "id": "18db1322-b674-4197-a396-66e965f03c6e",
   "metadata": {
    "tags": []
   },
   "source": [
    "#### Q2. Why threading module used? write the use of the following functions:\n",
    "1. activeCount()\n",
    "2. currentThread()\n",
    "3. enumerate()"
   ]
  },
  {
   "cell_type": "markdown",
   "id": "788c71cf-cf8d-4fed-97f7-60cb50cc2a3d",
   "metadata": {},
   "source": [
    "The threading module in Python provides a way to create threads and manage them. Threads are used to improve the performance of processes."
   ]
  },
  {
   "cell_type": "markdown",
   "id": "00976cb3-7a10-4c18-a1ac-1bc52e85f873",
   "metadata": {},
   "source": [
    "activeCount(): Returns the number of thread objects that are active."
   ]
  },
  {
   "cell_type": "markdown",
   "id": "f483b6f7-5927-4700-af5d-f0daf58ea815",
   "metadata": {},
   "source": [
    "currentThread(): Returns a list of all thread objects in the caller’s thread control."
   ]
  },
  {
   "cell_type": "markdown",
   "id": "c48e533c-9928-4e34-bf23-9e5c3265cd79",
   "metadata": {},
   "source": [
    "enumerate(): Returns a list of all thread objects that are currently active."
   ]
  },
  {
   "cell_type": "markdown",
   "id": "6e54982f-4492-436e-a589-1d97d54a786d",
   "metadata": {
    "tags": []
   },
   "source": [
    "#### Q3. Explain the following functions\n",
    "1. run()\n",
    "2. start()\n",
    "3. join()\n",
    "4. isAlive()"
   ]
  },
  {
   "cell_type": "markdown",
   "id": "91c77380-3b1b-4d69-bfe2-21ab3b0a3c89",
   "metadata": {},
   "source": [
    "run(): This method is used to start a thread by calling the run method. It creates a new thread and starts executing the code inside the run method.\n",
    "\n",
    "start(): This method is used to start a thread by calling the start method. It creates a new thread and starts executing the code inside the run method.\n",
    "\n",
    "join(): This method is used to wait for a thread to finish its execution. It blocks the current thread until the thread on which it is called completes its execution.\n",
    "\n",
    "isAlive(): This method is used to check whether a thread is still running or not. It returns True if the thread is still running and False otherwise."
   ]
  },
  {
   "cell_type": "markdown",
   "id": "60e0d0b9-ed72-4167-b5d8-9eda65df11dd",
   "metadata": {},
   "source": [
    "#### Q4. Write a python program to create two threads. Thread one must print the list of squares and thread two must print the list of cubes."
   ]
  },
  {
   "cell_type": "code",
   "execution_count": 13,
   "id": "d3814645-3d14-45ed-9e6e-bc3d54a45502",
   "metadata": {},
   "outputs": [],
   "source": [
    "import threading\n",
    "def squares(n):\n",
    "     print(\"Square: {}\".format(n * n))\n",
    "def cube(n):\n",
    "     print(\"Cube: {}\".format(n * n * n))\n"
   ]
  },
  {
   "cell_type": "code",
   "execution_count": 24,
   "id": "a198ab9a-c2fc-4977-bacf-e962204efc31",
   "metadata": {},
   "outputs": [
    {
     "name": "stdout",
     "output_type": "stream",
     "text": [
      "Square: 25\n",
      "Cube: 125\n"
     ]
    }
   ],
   "source": [
    "if __name__ == \"__main__\":\n",
    "    t1 = threading.Thread(target=squares, args=(5,))\n",
    "    t2 = threading.Thread(target=cube, args=(5,))\n",
    "    t1.start()\n",
    "    t2.start()\n",
    "    t1.join()\n",
    "    t2.join()"
   ]
  },
  {
   "cell_type": "markdown",
   "id": "ac1489f5-d5c8-4d6c-8009-8145f643f036",
   "metadata": {},
   "source": [
    "#### Q5. State advantages and disadvantages of multithreading"
   ]
  },
  {
   "cell_type": "markdown",
   "id": "4d5c1ff1-1453-4c48-845f-8e644c32613e",
   "metadata": {},
   "source": [
    "Advantages:\n",
    "\n",
    "    Enhanced performance by decreased development time,\n",
    "    Simplified and streamlined program coding,\n",
    "    Simultaneous and parallelized occurrence of tasks,\n",
    "    Better use of CPU resource,"
   ]
  },
  {
   "cell_type": "markdown",
   "id": "3899324d-b465-4765-b851-393a6fa4c8c2",
   "metadata": {},
   "source": [
    "Disadvantages:\n",
    "\n",
    "Code writing, debugging, managing concurrency, testing, porting existing code is difficult in multithreading and multicontexting"
   ]
  },
  {
   "cell_type": "markdown",
   "id": "c9afd796-e264-4220-9e4b-b07ef739ac71",
   "metadata": {},
   "source": [
    "#### Q6. Explain deadlocks and race conditions."
   ]
  },
  {
   "cell_type": "markdown",
   "id": "b99a57e9-e82f-427c-8621-8337fbe22c43",
   "metadata": {},
   "source": [
    " A race condition occurs when two or more threads access a shared resource at the same time and try to modify it simultaneously"
   ]
  },
  {
   "cell_type": "markdown",
   "id": "71b372a4-cf39-4ccb-b492-b879fb80ee1d",
   "metadata": {},
   "source": [
    "A deadlock occurs when two or more threads are blocked waiting for each other to release resources they need."
   ]
  },
  {
   "cell_type": "code",
   "execution_count": null,
   "id": "b31d9523-2a43-4d1b-b9da-b65fb7ff7236",
   "metadata": {},
   "outputs": [],
   "source": []
  }
 ],
 "metadata": {
  "kernelspec": {
   "display_name": "Python 3 (ipykernel)",
   "language": "python",
   "name": "python3"
  },
  "language_info": {
   "codemirror_mode": {
    "name": "ipython",
    "version": 3
   },
   "file_extension": ".py",
   "mimetype": "text/x-python",
   "name": "python",
   "nbconvert_exporter": "python",
   "pygments_lexer": "ipython3",
   "version": "3.10.8"
  }
 },
 "nbformat": 4,
 "nbformat_minor": 5
}
